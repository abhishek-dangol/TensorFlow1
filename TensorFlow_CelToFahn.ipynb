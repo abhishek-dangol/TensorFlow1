{
  "nbformat": 4,
  "nbformat_minor": 0,
  "metadata": {
    "colab": {
      "name": "TensorFlow_CelToFahn.ipynb",
      "provenance": [],
      "collapsed_sections": [],
      "include_colab_link": true
    },
    "kernelspec": {
      "name": "python3",
      "display_name": "Python 3"
    }
  },
  "cells": [
    {
      "cell_type": "markdown",
      "metadata": {
        "id": "view-in-github",
        "colab_type": "text"
      },
      "source": [
        "<a href=\"https://colab.research.google.com/github/abhishek-dangol/TensorFlow1/blob/master/TensorFlow_CelToFahn.ipynb\" target=\"_parent\"><img src=\"https://colab.research.google.com/assets/colab-badge.svg\" alt=\"Open In Colab\"/></a>"
      ]
    },
    {
      "cell_type": "code",
      "metadata": {
        "id": "5fPJZQRDdGL5",
        "colab_type": "code",
        "colab": {}
      },
      "source": [
        "import tensorflow as tf\n",
        "tf.logging.set_verbosity(tf.logging.ERROR)\n",
        "import numpy as np\n"
      ],
      "execution_count": 0,
      "outputs": []
    },
    {
      "cell_type": "markdown",
      "metadata": {
        "id": "N_2Jhk_5dh95",
        "colab_type": "text"
      },
      "source": [
        "**Set up training data**"
      ]
    },
    {
      "cell_type": "code",
      "metadata": {
        "id": "gp8JrzvCdknT",
        "colab_type": "code",
        "outputId": "6e4ac87c-b551-4373-d15a-788dfa974622",
        "colab": {
          "base_uri": "https://localhost:8080/",
          "height": 136
        }
      },
      "source": [
        "celsius_q = np.array([-40, -10, 0, 8, 15, 22, 38], dtype=float)\n",
        "fahrenheit_a = np.array([-40, 14, 32, 46, 59, 72, 100], dtype=float)\n",
        "\n",
        "for i, c in enumerate(celsius_q):\n",
        "  print(\"{} degrees Celcius = {} degrees Fahrenheit\".format(c, fahrenheit_a[i]))"
      ],
      "execution_count": 0,
      "outputs": [
        {
          "output_type": "stream",
          "text": [
            "-40.0 degrees Celcius = -40.0 degrees Fahrenheit\n",
            "-10.0 degrees Celcius = 14.0 degrees Fahrenheit\n",
            "0.0 degrees Celcius = 32.0 degrees Fahrenheit\n",
            "8.0 degrees Celcius = 46.0 degrees Fahrenheit\n",
            "15.0 degrees Celcius = 59.0 degrees Fahrenheit\n",
            "22.0 degrees Celcius = 72.0 degrees Fahrenheit\n",
            "38.0 degrees Celcius = 100.0 degrees Fahrenheit\n"
          ],
          "name": "stdout"
        }
      ]
    },
    {
      "cell_type": "markdown",
      "metadata": {
        "id": "5O-J7xJufpfg",
        "colab_type": "text"
      },
      "source": [
        "**Create the model**\n",
        "\n",
        "We use the simplest possible model we can, a Dense network. Since the problem is straightforward, the network will require only a single layer with a single neuron.\n",
        "We will call the layer lo and create it by instantiating tf.keras.layers.Dense with the following configuration:\n",
        "\n",
        "1.   input_shape=[1]- specifies that the input to this layer is a single value\n",
        "2.   units=1 - specifies the number of neurons in the layer\n",
        "\n"
      ]
    },
    {
      "cell_type": "code",
      "metadata": {
        "id": "tNbH5wHUga7R",
        "colab_type": "code",
        "colab": {}
      },
      "source": [
        "l0 = tf.keras.layers.Dense(units=1, input_shape=[1])"
      ],
      "execution_count": 0,
      "outputs": []
    },
    {
      "cell_type": "markdown",
      "metadata": {
        "id": "3ePiGa0MglYF",
        "colab_type": "text"
      },
      "source": [
        "**Assemble the layers into the model**\n",
        "\n",
        "Once layers are defined, they need to be assembled into  amodel. This model has just a single layer, lo"
      ]
    },
    {
      "cell_type": "markdown",
      "metadata": {
        "id": "1VPItcpkg0bV",
        "colab_type": "text"
      },
      "source": [
        ""
      ]
    },
    {
      "cell_type": "code",
      "metadata": {
        "id": "2xBIThtPgxPH",
        "colab_type": "code",
        "colab": {}
      },
      "source": [
        "model = tf.keras.Sequential([l0])\n"
      ],
      "execution_count": 0,
      "outputs": []
    },
    {
      "cell_type": "markdown",
      "metadata": {
        "id": "eHvTJvOthP8W",
        "colab_type": "text"
      },
      "source": [
        "**Compile the model, with loss and optimizer fucntions**\n",
        "\n",
        "\n",
        "\n",
        "*   Loss function: A way of measuring how far off predictions are from the desired outcome\n",
        "*   Optimizer function: A way of adjusting internal values in order to reduce the loss\n",
        "\n"
      ]
    },
    {
      "cell_type": "code",
      "metadata": {
        "id": "Xc_zJt1AhjzI",
        "colab_type": "code",
        "colab": {}
      },
      "source": [
        "model.compile(loss='mean_squared_error', optimizer=tf.keras.optimizers.Adam(0.1))"
      ],
      "execution_count": 0,
      "outputs": []
    },
    {
      "cell_type": "markdown",
      "metadata": {
        "id": "WvtR3KOFiA6a",
        "colab_type": "text"
      },
      "source": [
        "**Train the model**\n",
        "\n",
        "Train the model by calling the fit mehtod. The difference between the actual output and the desired output is calculated using the loss function and the optimizer function directs how the weights should be adjusted. The epochs argument specifies how many times this cycle should be run and the verbose argument controls how much output the method produces."
      ]
    },
    {
      "cell_type": "code",
      "metadata": {
        "id": "410cWKV6jizk",
        "colab_type": "code",
        "outputId": "d3aca089-459d-4943-fd12-7fd7f5b36bc4",
        "colab": {
          "base_uri": "https://localhost:8080/",
          "height": 34
        }
      },
      "source": [
        "history = model.fit(celsius_q, fahrenheit_a, epochs=500, verbose=False)\n",
        "print(\"Finished training the model\")"
      ],
      "execution_count": 0,
      "outputs": [
        {
          "output_type": "stream",
          "text": [
            "Finished training the model\n"
          ],
          "name": "stdout"
        }
      ]
    },
    {
      "cell_type": "markdown",
      "metadata": {
        "id": "J5cuafYCj6nz",
        "colab_type": "text"
      },
      "source": [
        "**Display the training statistics**\n",
        "\n",
        "A high loss means that the Fahrenheit degrees model prediction is far from the corresponding value in fahrenheit_a"
      ]
    },
    {
      "cell_type": "code",
      "metadata": {
        "id": "SFU4RI8Cj5wV",
        "colab_type": "code",
        "outputId": "7157ea07-adc4-43b1-8631-827c22314f9d",
        "colab": {
          "base_uri": "https://localhost:8080/",
          "height": 300
        }
      },
      "source": [
        "import matplotlib.pyplot as plt\n",
        "plt.xlabel('Epoch Number')\n",
        "plt.ylabel('Loss Magnitude')\n",
        "plt.plot(history.history['loss'])"
      ],
      "execution_count": 0,
      "outputs": [
        {
          "output_type": "execute_result",
          "data": {
            "text/plain": [
              "[<matplotlib.lines.Line2D at 0x7fe422639b70>]"
            ]
          },
          "metadata": {
            "tags": []
          },
          "execution_count": 21
        },
        {
          "output_type": "display_data",
          "data": {
            "image/png": "[encoded data removed]",
            "text/plain": [
              "<Figure size 432x288 with 1 Axes>"
            ]
          },
          "metadata": {
            "tags": []
          }
        }
      ]
    },
    {
      "cell_type": "markdown",
      "metadata": {
        "id": "2TAFzND2kxiq",
        "colab_type": "text"
      },
      "source": [
        "**Use the model to predict values**\n",
        "\n",
        "The actual value of 100 degrees in celsius is 212 degrees in Fahrenheit"
      ]
    },
    {
      "cell_type": "code",
      "metadata": {
        "id": "vsAKOiY6k7EY",
        "colab_type": "code",
        "outputId": "ad9d0a13-8398-46df-89c6-9d651cb2ea76",
        "colab": {
          "base_uri": "https://localhost:8080/",
          "height": 34
        }
      },
      "source": [
        "print(model.predict([100.0]))"
      ],
      "execution_count": 0,
      "outputs": [
        {
          "output_type": "stream",
          "text": [
            "[[211.30676]]\n"
          ],
          "name": "stdout"
        }
      ]
    }
  ]
}